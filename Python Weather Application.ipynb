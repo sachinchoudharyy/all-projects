{
 "cells": [
  {
   "cell_type": "code",
   "execution_count": 1,
   "metadata": {},
   "outputs": [],
   "source": [
    "import tkinter as tk\n",
    "from tkinter import messagebox\n",
    "import requests\n",
    "\n",
    "Api_key = \"5a9d9b0f8f85a58fb9a3a522dd12982c\"\n",
    "\n",
    "def fetch_weather(city):\n",
    "  weather_data = requests.get(f\"http://api.openweathermap.org/data/2.5/weather?q={city}&appid={Api_key}&units=metric\")\n",
    "   \n",
    "  if weather_data.json()[\"cod\"] == 200:\n",
    "        city_name = weather_data.json()[\"name\"]\n",
    "        weather = weather_data.json()[\"weather\"][0][\"description\"]\n",
    "        clouds = weather_data.json()[\"clouds\"][\"all\"]\n",
    "        coord = weather_data.json()[\"coord\"][\"lon\"]\n",
    "        sys = weather_data.json()[\"sys\"][\"country\"]\n",
    "        temperature = weather_data.json()[\"main\"][\"temp\"]\n",
    "        humidity = weather_data.json()[\"main\"][\"humidity\"]\n",
    "        wind_speed = weather_data.json()[\"wind\"][\"speed\"]\n",
    "        \n",
    "        weather_info = f\"City: {city_name}\\nWeather: {weather}\\nClouds: {clouds}\\ncoord: {coord}\\nSys: {sys}\\nTemperature: {temperature}°C\\nHumidity: {humidity}%\\nWind Speed: {wind_speed} m/s\"\n",
    "        messagebox.showinfo(\"Weather Details\", weather_info)\n",
    "  else:\n",
    "        messagebox.showerror(\"Error\", \"City not found.\")\n",
    "\n",
    "def weather_information():\n",
    "    city = city_entry.get()\n",
    "    fetch_weather(city)\n",
    "\n",
    "root = tk.Tk()\n",
    "root.title(\"Tkinter Weather Application\")\n",
    "\n",
    "\n",
    "city_label = tk.Label(root, text=\"Enter city:\")\n",
    "city_label.grid(row=0, column=0, padx=50, pady=50)\n",
    "\n",
    "city_entry = tk.Entry(root)\n",
    "city_entry.grid(row=0, column=1, padx=50, pady=50)\n",
    "\n",
    "weather_information_button = tk.Button(root, text=\"Show Weather Information\", command=weather_information)\n",
    "weather_information_button.grid(row=1, column=0, columnspan=2, padx=50, pady=50)\n",
    "\n",
    "\n",
    "root.mainloop()"
   ]
  },
  {
   "cell_type": "code",
   "execution_count": null,
   "metadata": {},
   "outputs": [],
   "source": []
  }
 ],
 "metadata": {
  "kernelspec": {
   "display_name": "Python 3",
   "language": "python",
   "name": "python3"
  },
  "language_info": {
   "codemirror_mode": {
    "name": "ipython",
    "version": 3
   },
   "file_extension": ".py",
   "mimetype": "text/x-python",
   "name": "python",
   "nbconvert_exporter": "python",
   "pygments_lexer": "ipython3",
   "version": "3.11.4"
  }
 },
 "nbformat": 4,
 "nbformat_minor": 2
}
